{
 "cells": [
  {
   "cell_type": "markdown",
   "metadata": {},
   "source": [
    "**ChatGPT is forbidden**"
   ]
  },
  {
   "cell_type": "markdown",
   "metadata": {},
   "source": [
    "**Data generation**"
   ]
  },
  {
   "cell_type": "markdown",
   "metadata": {},
   "source": [
    "Create and visualize arrays containing only real numbers, then integers, then strings, then a mix of integers and strings"
   ]
  },
  {
   "cell_type": "code",
   "execution_count": 1,
   "metadata": {},
   "outputs": [],
   "source": [
    "import numpy as np\n",
    "arr1 = np.array([1.2, 2, -3.5, 4])\n",
    "arr2 = np.arange(8)\n",
    "arr3 = np.array([\"hi\",\"my\",\"name\",\"is\",\"Nhi\"])\n",
    "arr4 = np.array([\"there\",\"are\",3, \"cats\"])"
   ]
  },
  {
   "cell_type": "markdown",
   "metadata": {},
   "source": [
    "Add two arrays made of integers, element by element (the two arrays must be the same size)"
   ]
  },
  {
   "cell_type": "code",
   "execution_count": 2,
   "metadata": {},
   "outputs": [
    {
     "data": {
      "text/plain": [
       "array([-3,  9,  2,  4])"
      ]
     },
     "execution_count": 2,
     "metadata": {},
     "output_type": "execute_result"
    }
   ],
   "source": [
    "a= np.array([1, 3, 4, -6])\n",
    "b= np.array([-4, 6, -2, 10])\n",
    "a+b "
   ]
  },
  {
   "cell_type": "markdown",
   "metadata": {},
   "source": [
    "Create a 3*3 array including only zeros on the first line, then 1s on the second line, then the number 5 on the third line"
   ]
  },
  {
   "cell_type": "code",
   "execution_count": 3,
   "metadata": {},
   "outputs": [
    {
     "name": "stdout",
     "output_type": "stream",
     "text": [
      "[[0 0 0]\n",
      " [1 1 1]\n",
      " [5 5 5]]\n"
     ]
    }
   ],
   "source": [
    "arr = np.array([[0,0,0],[1,1,1],[5,5,5]])\n",
    "print(arr)"
   ]
  },
  {
   "cell_type": "markdown",
   "metadata": {},
   "source": [
    "Extract the shape attribute from this array"
   ]
  },
  {
   "cell_type": "code",
   "execution_count": 4,
   "metadata": {},
   "outputs": [
    {
     "data": {
      "text/plain": [
       "(3, 3)"
      ]
     },
     "execution_count": 4,
     "metadata": {},
     "output_type": "execute_result"
    }
   ],
   "source": [
    "arr.shape"
   ]
  },
  {
   "cell_type": "markdown",
   "metadata": {},
   "source": [
    "Create an array of 3 by 3 by 3 including only real numbers chosen from a normal distribution"
   ]
  },
  {
   "cell_type": "code",
   "execution_count": 5,
   "metadata": {},
   "outputs": [
    {
     "data": {
      "text/plain": [
       "array([[[-5.75293593e-01, -1.63602430e+00, -6.36680986e-01],\n",
       "        [ 3.15196563e+00,  2.26419439e-01,  5.63546360e-01],\n",
       "        [ 1.77371870e+00, -2.36412139e-01, -1.77604595e+00]],\n",
       "\n",
       "       [[-8.70890614e-01, -5.37588456e-01, -1.69046033e+00],\n",
       "        [ 7.44448122e-01, -1.30145473e+00, -1.38582707e-01],\n",
       "        [ 1.40570419e-01, -3.41934302e-01,  8.83743135e-04]],\n",
       "\n",
       "       [[-7.99047193e-01, -2.55169914e-01, -9.59983611e-01],\n",
       "        [-1.38828858e-01, -6.81918371e-02, -8.94386063e-01],\n",
       "        [ 7.26771260e-01,  6.49719164e-01, -1.84652894e+00]]])"
      ]
     },
     "execution_count": 5,
     "metadata": {},
     "output_type": "execute_result"
    }
   ],
   "source": [
    "np.random.normal(0, 1, (3,3,3))"
   ]
  },
  {
   "cell_type": "markdown",
   "metadata": {},
   "source": [
    "Create a vector comprising 7 equally spaced values, between 2 and 3"
   ]
  },
  {
   "cell_type": "code",
   "execution_count": 6,
   "metadata": {},
   "outputs": [
    {
     "name": "stdout",
     "output_type": "stream",
     "text": [
      "[2.         2.16666667 2.33333333 2.5        2.66666667 2.83333333\n",
      " 3.        ]\n"
     ]
    }
   ],
   "source": [
    "x= np.linspace(2,3,7)\n",
    "print(x)\n"
   ]
  },
  {
   "cell_type": "markdown",
   "metadata": {},
   "source": [
    "Use the choice function to sample 5 values ​​from this last vector, once with replacement, and once without replacement"
   ]
  },
  {
   "cell_type": "code",
   "execution_count": 7,
   "metadata": {},
   "outputs": [
    {
     "name": "stdout",
     "output_type": "stream",
     "text": [
      "with replacement:\n",
      "[2.33333333 2.66666667 2.5        2.16666667 2.33333333]\n",
      "without replacement:\n",
      "[3.         2.         2.83333333 2.5        2.66666667]\n"
     ]
    }
   ],
   "source": [
    "x= np.linspace(2,3,7)\n",
    "import random\n",
    "print(\"with replacement:\") \n",
    "print(np.random.choice(x,size=5,replace=True))\n",
    "print(\"without replacement:\")\n",
    "print(np.random.choice(x,size=5,replace=False))"
   ]
  },
  {
   "cell_type": "markdown",
   "metadata": {},
   "source": [
    "Create a vector corresponding to a sequence of numbers, from 13 to 19, counting in steps of one"
   ]
  },
  {
   "cell_type": "code",
   "execution_count": 8,
   "metadata": {},
   "outputs": [
    {
     "data": {
      "text/plain": [
       "array([13, 14, 15, 16, 17, 18, 19])"
      ]
     },
     "execution_count": 8,
     "metadata": {},
     "output_type": "execute_result"
    }
   ],
   "source": [
    "np.arange(13,20)"
   ]
  },
  {
   "cell_type": "markdown",
   "metadata": {},
   "source": [
    "Create a 5*5 identity matrix"
   ]
  },
  {
   "cell_type": "code",
   "execution_count": 9,
   "metadata": {},
   "outputs": [
    {
     "data": {
      "text/plain": [
       "array([[1., 0., 0., 0., 0.],\n",
       "       [0., 1., 0., 0., 0.],\n",
       "       [0., 0., 1., 0., 0.],\n",
       "       [0., 0., 0., 1., 0.],\n",
       "       [0., 0., 0., 0., 1.]])"
      ]
     },
     "execution_count": 9,
     "metadata": {},
     "output_type": "execute_result"
    }
   ],
   "source": [
    "np.identity(5)"
   ]
  },
  {
   "cell_type": "markdown",
   "metadata": {},
   "source": [
    "Create a 5*5 matrix of zeros, with 1 on the diagonal. Then specifically extract this diagonal"
   ]
  },
  {
   "cell_type": "code",
   "execution_count": 10,
   "metadata": {},
   "outputs": [
    {
     "name": "stdout",
     "output_type": "stream",
     "text": [
      "[[1. 0. 0. 0. 0.]\n",
      " [0. 1. 0. 0. 0.]\n",
      " [0. 0. 1. 0. 0.]\n",
      " [0. 0. 0. 1. 0.]\n",
      " [0. 0. 0. 0. 1.]]\n",
      "the diagonal [1. 1. 1. 1. 1.]\n"
     ]
    }
   ],
   "source": [
    "x= np.identity(5)\n",
    "print(x)\n",
    "print(\"the diagonal\",np.diag(x))\n"
   ]
  },
  {
   "cell_type": "markdown",
   "metadata": {},
   "source": [
    "Complete this NumPy line to determine if the elements of a vector are finite (not infinite or not\n",
    "a number)"
   ]
  },
  {
   "cell_type": "code",
   "execution_count": 11,
   "metadata": {},
   "outputs": [
    {
     "name": "stdout",
     "output_type": "stream",
     "text": [
      "[ True  True False False]\n"
     ]
    }
   ],
   "source": [
    "a = np.array([1, 0, np.nan, np.inf]) \n",
    "print(np.isfinite(a))"
   ]
  },
  {
   "cell_type": "markdown",
   "metadata": {},
   "source": [
    "Complete this NumPy program to test element by element if it corresponds to infinity (positive\n",
    "or negative)"
   ]
  },
  {
   "cell_type": "code",
   "execution_count": 12,
   "metadata": {},
   "outputs": [
    {
     "name": "stdout",
     "output_type": "stream",
     "text": [
      "[False False False  True]\n"
     ]
    }
   ],
   "source": [
    "b= np.array([1, 0, np.nan, np.inf])\n",
    "print(np.isinf(b))"
   ]
  },
  {
   "cell_type": "markdown",
   "metadata": {},
   "source": [
    "Complete this NumPy program to perform a comparison by element (equal, then equal to\n",
    "a certain tolerance) of two given tables"
   ]
  },
  {
   "cell_type": "code",
   "execution_count": 13,
   "metadata": {},
   "outputs": [
    {
     "name": "stdout",
     "output_type": "stream",
     "text": [
      "[ True  True  True  True  True  True False]\n"
     ]
    }
   ],
   "source": [
    "x = np.array([72, 79, -135, 120, -10, 60, 100])\n",
    "y = np.array([72, 79, -135, 120, -10, 60, 100.01])\n",
    "print(np.equal(x, y))"
   ]
  },
  {
   "cell_type": "markdown",
   "metadata": {},
   "source": [
    "**Subsetting & reshaping**"
   ]
  },
  {
   "cell_type": "markdown",
   "metadata": {},
   "source": [
    "Create an array of 7 by 7 including only real numbers chosen from a normal distribution, then select only the first row, the first column, all columns up to the third, and the element of the second column and third row"
   ]
  },
  {
   "cell_type": "code",
   "execution_count": 14,
   "metadata": {},
   "outputs": [
    {
     "name": "stdout",
     "output_type": "stream",
     "text": [
      "[[-8.02455764e-01  6.45140847e-01  7.73867492e-01 -5.84811568e-01\n",
      "  -1.59454926e-01 -1.13472626e-03  3.98148770e-01]\n",
      " [-4.79930520e-01  3.04956959e-01 -1.23795695e+00  1.41641739e+00\n",
      "   1.09019334e-01  2.05013930e+00  3.47685200e-01]\n",
      " [ 1.12730252e+00  5.52403898e-01 -7.73487447e-01 -2.25034718e-01\n",
      "   3.51889780e-01  8.15008131e-01 -1.23865306e-01]\n",
      " [-1.05265529e+00  1.04760067e+00 -4.75395738e-01 -6.71228313e-01\n",
      "   1.70593560e-01 -8.44310930e-02 -7.81234659e-01]\n",
      " [-4.66038772e-01  3.93263729e-02 -3.76398106e-01 -5.31147569e-01\n",
      "   4.79375939e-01 -1.27702820e+00 -6.81130342e-01]\n",
      " [ 2.98770955e+00 -7.43407575e-01 -4.15460611e-01 -3.69215604e-01\n",
      "  -1.23942053e+00 -6.07914750e-01 -1.69462650e+00]\n",
      " [-1.34515909e+00  1.12335825e-01 -4.28754826e-01  5.70304973e-01\n",
      "   2.13950364e-01 -1.87487213e-01  5.51900549e-01]]\n",
      "first row [-0.80245576  0.64514085  0.77386749 -0.58481157 -0.15945493 -0.00113473\n",
      "  0.39814877]\n",
      "first column [-0.80245576 -0.47993052  1.12730252 -1.05265529 -0.46603877  2.98770955\n",
      " -1.34515909]\n",
      "all columns up to third [[-0.80245576  0.64514085  0.77386749]\n",
      " [-0.47993052  0.30495696 -1.23795695]\n",
      " [ 1.12730252  0.5524039  -0.77348745]\n",
      " [-1.05265529  1.04760067 -0.47539574]\n",
      " [-0.46603877  0.03932637 -0.37639811]\n",
      " [ 2.98770955 -0.74340757 -0.41546061]\n",
      " [-1.34515909  0.11233582 -0.42875483]]\n",
      "element of the third row and second column 0.5524038984743992\n"
     ]
    }
   ],
   "source": [
    "a= np.random.normal(0,1,(7,7))\n",
    "print(a)\n",
    "print(\"first row\",a[0])\n",
    "print(\"first column\",a[:,0])\n",
    "print(\"all columns up to third\",a[:,:3])\n",
    "print(\"element of the third row and second column\",a[2,1])"
   ]
  },
  {
   "cell_type": "markdown",
   "metadata": {},
   "source": [
    "Create an array that is the repetition of one 1, two 2s, and three 3s, then from this vector, create a new array including the \"unique\" values ​​(i.e., 1, 2, and 3)"
   ]
  },
  {
   "cell_type": "code",
   "execution_count": 15,
   "metadata": {},
   "outputs": [
    {
     "name": "stdout",
     "output_type": "stream",
     "text": [
      "the array [1 2 2 1 1 1 1 1 3 2 3 3 3 1 3 1 1 3 1 3 2 3 2 1 2 3 1 3 2 3]\n",
      "array including unique value [1 2 3]\n"
     ]
    }
   ],
   "source": [
    "a= np.random.randint(1,4,30)\n",
    "print(\"the array\", a)\n",
    "print(\"array including unique value\" ,np.unique(a))"
   ]
  },
  {
   "cell_type": "markdown",
   "metadata": {},
   "source": [
    "Créez un array de 5*5 comprenant des chiffres entiers choisis aléatoirement, puis réalisez une transposition de cette matrice"
   ]
  },
  {
   "cell_type": "code",
   "execution_count": 16,
   "metadata": {},
   "outputs": [
    {
     "name": "stdout",
     "output_type": "stream",
     "text": [
      "the array is\n",
      "[[14  2  3  9 11]\n",
      " [ 3  4  6 13  1]\n",
      " [ 2  3 16  5 12]\n",
      " [ 1  8 19 15  9]\n",
      " [19  9 17 19 17]]\n",
      "transpose is\n",
      "[[14  3  2  1 19]\n",
      " [ 2  4  3  8  9]\n",
      " [ 3  6 16 19 17]\n",
      " [ 9 13  5 15 19]\n",
      " [11  1 12  9 17]]\n"
     ]
    }
   ],
   "source": [
    "a = np.random.randint(1,20,size=(5,5))\n",
    "print(\"the array is\")\n",
    "print(a)\n",
    "print(\"transpose is\")\n",
    "print(np.transpose(a))"
   ]
  },
  {
   "cell_type": "markdown",
   "metadata": {},
   "source": [
    "Create a vector of 25 successive integers, then use reshape to make it a 5*5 matrix. Then play with the reshape function to illustrate how it works"
   ]
  },
  {
   "cell_type": "code",
   "execution_count": 17,
   "metadata": {},
   "outputs": [
    {
     "name": "stdout",
     "output_type": "stream",
     "text": [
      "[ 0  1  2  3  4  5  6  7  8  9 10 11 12 13 14 15 16 17 18 19 20 21 22 23\n",
      " 24]\n",
      "[[ 0  1  2  3  4]\n",
      " [ 5  6  7  8  9]\n",
      " [10 11 12 13 14]\n",
      " [15 16 17 18 19]\n",
      " [20 21 22 23 24]]\n"
     ]
    }
   ],
   "source": [
    "b= np.arange(0,25,1)\n",
    "print(b)\n",
    "print(b.reshape(5,5))"
   ]
  },
  {
   "cell_type": "markdown",
   "metadata": {},
   "source": [
    "Make a broadcast of two arrays of your design"
   ]
  },
  {
   "cell_type": "code",
   "execution_count": 18,
   "metadata": {},
   "outputs": [
    {
     "name": "stdout",
     "output_type": "stream",
     "text": [
      "a= [1 2 3]\n",
      "b= 2\n",
      "c=a+b [3 4 5]\n"
     ]
    }
   ],
   "source": [
    "a = np.array([1,2,3])\n",
    "print(\"a=\",a)\n",
    "b=2\n",
    "print(\"b=\",b)\n",
    "c= a+b\n",
    "print(\"c=a+b\",c)"
   ]
  },
  {
   "cell_type": "markdown",
   "metadata": {},
   "source": [
    "Illustrate “type casting” by changing the data type contained in an array of your choice"
   ]
  },
  {
   "cell_type": "code",
   "execution_count": 19,
   "metadata": {},
   "outputs": [
    {
     "data": {
      "text/plain": [
       "array(['summer', 'is', 'fun'], dtype='<U6')"
      ]
     },
     "execution_count": 19,
     "metadata": {},
     "output_type": "execute_result"
    }
   ],
   "source": [
    "a= np.array([\"summer\",\"is\",\"fun\"])\n",
    "a.astype(str)"
   ]
  },
  {
   "cell_type": "markdown",
   "metadata": {},
   "source": [
    "Create a 4*4 array including integers, which you will cut in half using vsplit"
   ]
  },
  {
   "cell_type": "code",
   "execution_count": 20,
   "metadata": {},
   "outputs": [
    {
     "name": "stdout",
     "output_type": "stream",
     "text": [
      "[[15 16 17  2]\n",
      " [17  1 18  3]\n",
      " [12  1  7 15]\n",
      " [ 4  1 12  6]]\n",
      "after cutting in half using vsplit\n",
      "[array([[15, 16, 17,  2],\n",
      "       [17,  1, 18,  3]]), array([[12,  1,  7, 15],\n",
      "       [ 4,  1, 12,  6]])]\n"
     ]
    }
   ],
   "source": [
    "a= np.random.randint(1,20,size=(4,4))\n",
    "print(a)\n",
    "print(\"after cutting in half using vsplit\")\n",
    "print(np.vsplit(a,2))"
   ]
  },
  {
   "cell_type": "markdown",
   "metadata": {},
   "source": [
    "Create a 4*4 array of integers, which you \"unfold\" into a 1D vector using the reshape command. You will then use the shuffle and permutation commands to mix these numbers"
   ]
  },
  {
   "cell_type": "code",
   "execution_count": 21,
   "metadata": {},
   "outputs": [
    {
     "name": "stdout",
     "output_type": "stream",
     "text": [
      "[[12  3  8 18]\n",
      " [ 6 19 19  1]\n",
      " [17  3 10  7]\n",
      " [ 9 19  4 15]]\n",
      "After making into 1D vector [12  3  8 18  6 19 19  1 17  3 10  7  9 19  4 15]\n",
      "Shuffled\n",
      "[[17  3 10  7]\n",
      " [12  3  8 18]\n",
      " [ 6 19 19  1]\n",
      " [ 9 19  4 15]]\n",
      "Permutated [[17  3 10  7]\n",
      " [ 9 19  4 15]\n",
      " [12  3  8 18]\n",
      " [ 6 19 19  1]]\n"
     ]
    }
   ],
   "source": [
    "a= np.random.randint(1,20,size=(4,4))\n",
    "print(a)\n",
    "b= a.flatten()\n",
    "print(\"After making into 1D vector\", b)\n",
    "c=a.copy()\n",
    "np.random.shuffle(c)\n",
    "print(\"Shuffled\")\n",
    "print(c)\n",
    "print(\"Permutated\",np.random.permutation(a))"
   ]
  },
  {
   "cell_type": "markdown",
   "metadata": {},
   "source": [
    "Merge a 3*3 matrix made of integers, with a vector of three elements, once horizontally, and once vertically"
   ]
  },
  {
   "cell_type": "code",
   "execution_count": 22,
   "metadata": {},
   "outputs": [
    {
     "name": "stdout",
     "output_type": "stream",
     "text": [
      "[[18  6 12]\n",
      " [ 6  7  2]\n",
      " [18 11  7]]\n",
      "[ 7 16  7]\n",
      "horizontally\n",
      "[[18  6 12  7]\n",
      " [ 6  7  2 16]\n",
      " [18 11  7  7]]\n",
      "vertically\n",
      "[[18  6 12]\n",
      " [ 6  7  2]\n",
      " [18 11  7]\n",
      " [ 7 16  7]]\n"
     ]
    }
   ],
   "source": [
    "a= np.random.randint(1,20,size=(3,3))\n",
    "b= np.random.randint(1,20,3)\n",
    "print(a)\n",
    "print(b)\n",
    "print(\"horizontally\")\n",
    "print(np.hstack((a,b.reshape(3,1))))\n",
    "print(\"vertically\")\n",
    "print(np.vstack((a,b)))\n"
   ]
  },
  {
   "cell_type": "markdown",
   "metadata": {},
   "source": [
    "Demonstrate your mastery and understanding of the resize command, then the argsort command. Make comments"
   ]
  },
  {
   "cell_type": "code",
   "execution_count": null,
   "metadata": {},
   "outputs": [],
   "source": []
  },
  {
   "cell_type": "markdown",
   "metadata": {},
   "source": [
    "Write a NumPy program to get the n largest values ​​of an array, use np.partition and play with both positive and negative values ​​of n, the second argument of the function, before explaining in your words what is happening. pass"
   ]
  },
  {
   "cell_type": "code",
   "execution_count": 23,
   "metadata": {},
   "outputs": [
    {
     "name": "stdout",
     "output_type": "stream",
     "text": [
      "Original Array: [-2  3  5 -6  9 11]\n",
      "3-th Largest Value: 5\n"
     ]
    }
   ],
   "source": [
    "import numpy as np\n",
    "\n",
    "def get_nth_largest(arr, n):\n",
    "    # Use np.partition to get the n-th largest value\n",
    "    partitioned_array = np.partition(arr, -n)\n",
    "    \n",
    "    # Get the n-th largest value\n",
    "    nth_largest_value = partitioned_array[-n]\n",
    "    \n",
    "    return nth_largest_value\n",
    "\n",
    "# Example\n",
    "array_example = np.array([-2,3,5,-6,9,11])\n",
    "n_value = 3\n",
    "\n",
    "result_nth_largest = get_nth_largest(array_example, n_value)\n",
    "\n",
    "print(f\"Original Array: {array_example}\")\n",
    "print(f\"{n_value}-th Largest Value: {result_nth_largest}\")\n"
   ]
  },
  {
   "cell_type": "markdown",
   "metadata": {},
   "source": [
    "Sort a 2*2 array, on the one hand before having flattened it, and on the other hand after having flattened it"
   ]
  },
  {
   "cell_type": "code",
   "execution_count": 24,
   "metadata": {},
   "outputs": [
    {
     "name": "stdout",
     "output_type": "stream",
     "text": [
      "Original Array:\n",
      "[[9 3]\n",
      " [1 4]]\n",
      "Sorted Array Before Flatten:\n",
      "[[1 3]\n",
      " [4 9]]\n",
      "Sorted Array After Flatten:\n",
      "[[1 3]\n",
      " [4 9]]\n"
     ]
    }
   ],
   "source": [
    "import numpy as np\n",
    "\n",
    "# Create a 2x2 array\n",
    "original_array = np.array([[9, 3], [1, 4]])\n",
    "\n",
    "# Sort the array without flattening\n",
    "sorted_array_before_flatten = np.sort(original_array, axis=None)\n",
    "\n",
    "# Flatten the array and then sort it\n",
    "flattened_array = original_array.flatten()\n",
    "sorted_array_after_flatten = np.sort(flattened_array)\n",
    "\n",
    "# Reshape the flattened array to 2x2\n",
    "sorted_array_after_flatten = sorted_array_after_flatten.reshape(original_array.shape)\n",
    "\n",
    "# Print the results\n",
    "print(\"Original Array:\")\n",
    "print(original_array)\n",
    "print(\"Sorted Array Before Flatten:\")\n",
    "print(sorted_array_before_flatten.reshape(original_array.shape))\n",
    "print(\"Sorted Array After Flatten:\")\n",
    "print(sorted_array_after_flatten)\n"
   ]
  },
  {
   "cell_type": "markdown",
   "metadata": {},
   "source": [
    "Produce a 1D array of the size of your choice, containing a random numbers of 2 between 5 and 10. Count the number of times the value 2 is repeated in the array."
   ]
  },
  {
   "cell_type": "code",
   "execution_count": 60,
   "metadata": {},
   "outputs": [
    {
     "name": "stdout",
     "output_type": "stream",
     "text": [
      "Generated Array: [2 2 2 2 2 2 2]\n",
      "Number of times the value 2 is repeated: 7\n"
     ]
    }
   ],
   "source": [
    "import numpy as np\n",
    "\n",
    "# 1D array of size 20 with a random number of 2s between 5 and 10\n",
    "array_size = np.random.randint(5,11)\n",
    "array_with_twos = np.random.choice([2],array_size)\n",
    "\n",
    "# Count the occurrences of the value 2 in the array\n",
    "count_of_twos = np.count_nonzero(array_with_twos == 2)\n",
    "\n",
    "# Print the results\n",
    "print(\"Generated Array:\", array_with_twos)\n",
    "print(\"Number of times the value 2 is repeated:\", count_of_twos)\n"
   ]
  },
  {
   "cell_type": "markdown",
   "metadata": {},
   "source": [
    "Create an integer vector of size 30 with numbers between 1 and 12. Then use np.isin to check if the numbers 4, 6 and 7 appeared in the sequence"
   ]
  },
  {
   "cell_type": "code",
   "execution_count": 26,
   "metadata": {},
   "outputs": [
    {
     "name": "stdout",
     "output_type": "stream",
     "text": [
      "Generated Vector: [ 1  4  8 10  5 11 12 10  8  8 12  3  7  4 11  5  3  2  4 11  9  8 11  3\n",
      "  5 12  4  1 10  2]\n",
      "Numbers [4, 6, 7] appeared in the sequence: [False  True False False False False False False False False False False\n",
      "  True  True False False False False  True False False False False False\n",
      " False False  True False False False]\n"
     ]
    }
   ],
   "source": [
    "import numpy as np\n",
    "\n",
    "# Create an integer vector of size 30 with numbers between 1 and 12\n",
    "random_vector = np.random.randint(1, 13, size=30)\n",
    "\n",
    "# Check if numbers 4, 6, and 7 appear in the sequence\n",
    "numbers_to_check = [4, 6, 7]\n",
    "result_check = np.isin(random_vector, numbers_to_check)\n",
    "\n",
    "# Print the results\n",
    "print(\"Generated Vector:\", random_vector)\n",
    "print(f\"Numbers {numbers_to_check} appeared in the sequence:\", result_check)"
   ]
  },
  {
   "cell_type": "markdown",
   "metadata": {},
   "source": [
    "**np.where**"
   ]
  },
  {
   "cell_type": "markdown",
   "metadata": {},
   "source": [
    "Create an integer vector of size 30 with numbers between 1 and 12, then use the np.where function to identify indexes of numbers greater than 6"
   ]
  },
  {
   "cell_type": "code",
   "execution_count": 27,
   "metadata": {},
   "outputs": [
    {
     "name": "stdout",
     "output_type": "stream",
     "text": [
      "Generated Vector: [12  9 12 12  4  4  7  2  2  9  1 11  3  3  7 11 11  3  7 12 12  1  7  4\n",
      " 11  1  9  9  5 12]\n",
      "Indexes of numbers greater than 6: (array([ 0,  1,  2,  3,  6,  9, 11, 14, 15, 16, 18, 19, 20, 22, 24, 26, 27,\n",
      "       29], dtype=int64),)\n"
     ]
    }
   ],
   "source": [
    "import numpy as np\n",
    "\n",
    "# Create an integer vector of size 30 with numbers between 1 and 12\n",
    "random_vector = np.random.randint(1, 13, size=30)\n",
    "\n",
    "# Use np.where to identify indexes of numbers greater than 6\n",
    "indexes_greater_than_six = np.where(random_vector > 6)\n",
    "\n",
    "# Print the results\n",
    "print(\"Generated Vector:\", random_vector)\n",
    "print(\"Indexes of numbers greater than 6:\", indexes_greater_than_six)\n"
   ]
  },
  {
   "cell_type": "markdown",
   "metadata": {},
   "source": [
    "**Données manquantes**"
   ]
  },
  {
   "cell_type": "markdown",
   "metadata": {},
   "source": [
    "Create an array of 3 * 3 and introduce a missing value at index [0,0], via np.nan"
   ]
  },
  {
   "cell_type": "code",
   "execution_count": 28,
   "metadata": {},
   "outputs": [
    {
     "name": "stdout",
     "output_type": "stream",
     "text": [
      "[[nan  2.  3.]\n",
      " [-8.  6. 26.]\n",
      " [-7. 18. -9.]]\n"
     ]
    }
   ],
   "source": [
    "import numpy as np\n",
    "\n",
    "# Create a 3x3 array\n",
    "original_array = np.array([[-9, 2, 3],[-8, 6, 26],[-7, 18, -9]])\n",
    "\n",
    "# Introduce a missing value (NaN) at index [0, 0]\n",
    "original_array = original_array.astype(float)\n",
    "original_array[0, 0] = np.nan\n",
    "\n",
    "# Print the resulting array with the missing value\n",
    "print(original_array)\n"
   ]
  },
  {
   "cell_type": "markdown",
   "metadata": {},
   "source": [
    "Transform this missing value into zero using np.fillna"
   ]
  },
  {
   "cell_type": "code",
   "execution_count": 29,
   "metadata": {},
   "outputs": [
    {
     "name": "stdout",
     "output_type": "stream",
     "text": [
      "[[ 0.  2.  3.]\n",
      " [-8.  6. 26.]\n",
      " [-7. 18. -9.]]\n"
     ]
    }
   ],
   "source": [
    "import numpy as np\n",
    "import pandas as pd\n",
    "\n",
    "# Create a 3x3 array of integers with a missing value (NaN)\n",
    "original_array = np.array([[np.nan, 2, 3],[-8, 6, 26],[-7, 18, -9]])\n",
    "\n",
    "# Convert the array to a Pandas DataFrame\n",
    "df = pd.DataFrame(original_array)\n",
    "\n",
    "# Use fillna to replace NaN with zero\n",
    "df.fillna(0, inplace=True)\n",
    "\n",
    "# Convert the DataFrame back to a NumPy array\n",
    "result_array = df.to_numpy()\n",
    "\n",
    "# Print the resulting array with NaN replaced by zero\n",
    "print(result_array)\n"
   ]
  },
  {
   "cell_type": "markdown",
   "metadata": {},
   "source": [
    "You have two sets of integers: A = {1, 2, 3, 4, 5} and B = {3, 4, 5, 6, 7}. Write a program in Python using the appropriate function to find the union of these two sets and return the result."
   ]
  },
  {
   "cell_type": "code",
   "execution_count": 30,
   "metadata": {},
   "outputs": [
    {
     "name": "stdout",
     "output_type": "stream",
     "text": [
      "Set A is: {1, 2, 3, 4, 5}\n",
      "Set B is: {3, 4, 5, 6, 7}\n",
      "Union using union method: {1, 2, 3, 4, 5, 6, 7}\n"
     ]
    }
   ],
   "source": [
    "# Define sets A and B\n",
    "A = {1, 2, 3, 4, 5}\n",
    "B = {3, 4, 5, 6, 7}\n",
    "\n",
    "# Find the union of sets A and B using the union method\n",
    "union_result_method = A.union(B)\n",
    "\n",
    "# Print the results\n",
    "print(\"Set A is:\",A)\n",
    "print(\"Set B is:\",B)\n",
    "print(\"Union using union method:\", union_result_method)\n"
   ]
  },
  {
   "cell_type": "markdown",
   "metadata": {},
   "source": [
    "You have two sets of integers: A = {1, 2, 3, 4, 5} and B = {3, 4, 5, 6, 7}. Write a program in Python using the appropriate function to find the intersection of these two sets and return the result"
   ]
  },
  {
   "cell_type": "code",
   "execution_count": 31,
   "metadata": {},
   "outputs": [
    {
     "name": "stdout",
     "output_type": "stream",
     "text": [
      "Set A is: {1, 2, 3, 4, 5}\n",
      "Set B is: {3, 4, 5, 6, 7}\n",
      "Union using union method: {3, 4, 5}\n"
     ]
    }
   ],
   "source": [
    "# Define sets A and B\n",
    "A = {1, 2, 3, 4, 5}\n",
    "B = {3, 4, 5, 6, 7}\n",
    "\n",
    "# Find the union of sets A and B using the union method\n",
    "intersection_result_method = A.intersection(B)\n",
    "\n",
    "# Print the results\n",
    "print(\"Set A is:\",A)\n",
    "print(\"Set B is:\",B)\n",
    "print(\"Union using union method:\", intersection_result_method)\n"
   ]
  },
  {
   "cell_type": "markdown",
   "metadata": {},
   "source": [
    "You have a set of integer values ​​= {2, 4, 6}, and a NumPy array = [1, 2, 3, 4, 5]. Write a program in Python using np.in1d ​​to check if each element in array belongs to the set values. The program must return an array of booleans indicating the membership of each element"
   ]
  },
  {
   "cell_type": "code",
   "execution_count": 32,
   "metadata": {},
   "outputs": [
    {
     "name": "stdout",
     "output_type": "stream",
     "text": [
      "Set of integer values: {2, 4, 6}\n",
      "NumPy array: [1 2 3 4 5]\n",
      "Membership Result: [False  True False  True False]\n"
     ]
    }
   ],
   "source": [
    "import numpy as np\n",
    "\n",
    "# Define the set of values and the NumPy array\n",
    "set_of_values = {2, 4, 6}\n",
    "numpy_array = np.array([1, 2, 3, 4, 5])\n",
    "\n",
    "# Check membership using np.in1d\n",
    "membership_result = np.in1d(numpy_array, list(set_of_values))\n",
    "\n",
    "# Print the result\n",
    "print(\"Set of integer values:\",set_of_values)\n",
    "print(\"NumPy array:\",numpy_array)\n",
    "print(\"Membership Result:\", membership_result)\n"
   ]
  },
  {
   "cell_type": "markdown",
   "metadata": {},
   "source": [
    "You have two sets of integers: A = {1, 2, 3, 4, 5} and B = {3, 4, 5, 6, 7}. Write a program in Python using np.setdiff1d to find elements that are in A but not in B, then return the result."
   ]
  },
  {
   "cell_type": "code",
   "execution_count": 33,
   "metadata": {},
   "outputs": [
    {
     "name": "stdout",
     "output_type": "stream",
     "text": [
      "Set A is: {1, 2, 3, 4, 5}\n",
      "Set B is: {3, 4, 5, 6, 7}\n",
      "Elements in A but not in B: [1 2]\n"
     ]
    }
   ],
   "source": [
    "import numpy as np\n",
    "\n",
    "# Define sets A and B\n",
    "A = {1, 2, 3, 4, 5}\n",
    "B = {3, 4, 5, 6, 7}\n",
    "\n",
    "# Find elements in A but not in B using np.setdiff1d\n",
    "result_setdiff1d = np.setdiff1d(list(A), list(B))\n",
    "\n",
    "# Print the result\n",
    "print(\"Set A is:\",A)\n",
    "print(\"Set B is:\",B)\n",
    "print(\"Elements in A but not in B:\", result_setdiff1d)\n"
   ]
  },
  {
   "cell_type": "markdown",
   "metadata": {},
   "source": [
    "Write a function that takes a NumPy array as input and returns a new array containing the differences between consecutive elements of the input array. For example, if the input is [1, 3, 7, 11], the result should be [2, 4, 4]."
   ]
  },
  {
   "cell_type": "code",
   "execution_count": 34,
   "metadata": {},
   "outputs": [
    {
     "name": "stdout",
     "output_type": "stream",
     "text": [
      "Input Array: [ 1  3  7 11]\n",
      "Consecutive Differences: [2 4 4]\n"
     ]
    }
   ],
   "source": [
    "import numpy as np\n",
    "\n",
    "def consecutive_differences(input_array):\n",
    "    result_array = np.diff(input_array)\n",
    "    return result_array\n",
    "\n",
    "\n",
    "input_array = np.array([1, 3, 7, 11])\n",
    "result = consecutive_differences(input_array)\n",
    "\n",
    "print(\"Input Array:\", input_array)\n",
    "print(\"Consecutive Differences:\", result)\n"
   ]
  },
  {
   "cell_type": "markdown",
   "metadata": {},
   "source": [
    "**Calculus with NumPy**"
   ]
  },
  {
   "cell_type": "markdown",
   "metadata": {},
   "source": [
    "Create a matrix of 4*4 real numbers, both negative and positive, then calculate for each row the sum, average, and cumulative sum"
   ]
  },
  {
   "cell_type": "code",
   "execution_count": 35,
   "metadata": {},
   "outputs": [
    {
     "name": "stdout",
     "output_type": "stream",
     "text": [
      "Original Matrix:\n",
      "[[-3.5  3.  -1.8  8.2]\n",
      " [ 1.  -2.  -5.  -3.5]\n",
      " [ 2.   1.5 -4.   3.3]\n",
      " [-3.8  2.2 -0.5  1.9]]\n",
      "Row Sums:\n",
      "[ 5.9 -9.5  2.8 -0.2]\n",
      "Row Averages:\n",
      "[ 1.475 -2.375  0.7   -0.05 ]\n",
      "Row Cumulative Sums:\n",
      "[[-3.5 -0.5 -2.3  5.9]\n",
      " [ 1.  -1.  -6.  -9.5]\n",
      " [ 2.   3.5 -0.5  2.8]\n",
      " [-3.8 -1.6 -2.1 -0.2]]\n"
     ]
    }
   ],
   "source": [
    "import numpy as np\n",
    "\n",
    "# Create a 4x4 matrix of real numbers\n",
    "matrix = np.array([\n",
    "    [-3.5, 3.0, -1.8, 8.2],\n",
    "    [1, -2.0, -5, -3.5],\n",
    "    [2.0, 1.5, -4.0, 3.3],\n",
    "    [-3.8, 2.2, -0.5, 1.9]\n",
    "])\n",
    "\n",
    "# Calculate sum, average, and cumulative sum for each row\n",
    "row_sums = np.sum(matrix, axis=1)\n",
    "row_averages = np.mean(matrix, axis=1)\n",
    "row_cumsums = np.cumsum(matrix, axis=1)\n",
    "\n",
    "# Print the results\n",
    "print(\"Original Matrix:\")\n",
    "print(matrix)\n",
    "print(\"Row Sums:\")\n",
    "print(row_sums)\n",
    "print(\"Row Averages:\")\n",
    "print(row_averages)\n",
    "print(\"Row Cumulative Sums:\")\n",
    "print(row_cumsums)\n"
   ]
  },
  {
   "cell_type": "markdown",
   "metadata": {},
   "source": [
    "Repeat the previous operation by averaging the absolute values ​​of the numbers, then the minimum value and the maximum value; you will finally create a last column using the maximum value with the np.round function"
   ]
  },
  {
   "cell_type": "code",
   "execution_count": 36,
   "metadata": {},
   "outputs": [
    {
     "name": "stdout",
     "output_type": "stream",
     "text": [
      "Original Matrix:\n",
      "[[-3.5  3.  -1.8  8.2]\n",
      " [ 1.  -2.  -5.  -3.5]\n",
      " [ 2.   1.5 -4.   3.3]\n",
      " [-3.8  2.2 -0.5  1.9]]\n",
      "Row Average of Absolute Values:\n",
      "[4.125 2.875 2.7   2.1  ]\n",
      "Row Minimum Values:\n",
      "[-3.5 -5.  -4.  -3.8]\n",
      "Row Maximum Values:\n",
      "[8.2 1.  3.3 2.2]\n",
      "New Column (Max Value Rounded):\n",
      "[8.2 1.  3.3 2.2]\n"
     ]
    }
   ],
   "source": [
    "import numpy as np\n",
    "\n",
    "# Create a 4x4 matrix of real numbers\n",
    "matrix = np.array([[-3.5, 3.0, -1.8, 8.2],[1, -2.0, -5, -3.5],[2.0, 1.5, -4.0, 3.3],[-3.8, 2.2, -0.5, 1.9]])\n",
    "\n",
    "# Calculate average of absolute values, minimum, and maximum for each row\n",
    "row_avg_abs = np.mean(np.abs(matrix), axis=1)\n",
    "row_min = np.min(matrix, axis=1)\n",
    "row_max = np.max(matrix, axis=1)\n",
    "\n",
    "# Create a new column using the maximum value rounded\n",
    "max_value_rounded = np.round(np.max(matrix, axis=1), decimals=2)\n",
    "\n",
    "# Print the results\n",
    "print(\"Original Matrix:\")\n",
    "print(matrix)\n",
    "print(\"Row Average of Absolute Values:\")\n",
    "print(row_avg_abs)\n",
    "print(\"Row Minimum Values:\")\n",
    "print(row_min)\n",
    "print(\"Row Maximum Values:\")\n",
    "print(row_max)\n",
    "print(\"New Column (Max Value Rounded):\")\n",
    "print(max_value_rounded)\n"
   ]
  },
  {
   "cell_type": "markdown",
   "metadata": {},
   "source": [
    "Place 10 points randomly on a plane, then calculate the distance vectors between these different points. How many distance calculations do you do? Visualize points with matplotlib"
   ]
  },
  {
   "cell_type": "code",
   "execution_count": 37,
   "metadata": {},
   "outputs": [
    {
     "name": "stdout",
     "output_type": "stream",
     "text": [
      "Number of distance calculations: 45\n"
     ]
    },
    {
     "data": {
      "image/png": "[encoded data removed]",
      "text/plain": [
       "<Figure size 640x480 with 1 Axes>"
      ]
     },
     "metadata": {},
     "output_type": "display_data"
    }
   ],
   "source": [
    "import numpy as np\n",
    "import matplotlib.pyplot as plt\n",
    "\n",
    "# Set a seed for reproducibility\n",
    "np.random.seed(42)\n",
    "\n",
    "# Generate 10 random points on a plane\n",
    "points = np.random.rand(10, 2)\n",
    "\n",
    "# Calculate distance vectors between all pairs of points\n",
    "distances = np.linalg.norm(points[:, np.newaxis, :] - points[np.newaxis, :, :], axis=-1)\n",
    "\n",
    "# Count the number of distance calculations\n",
    "num_distance_calculations = len(points) * (len(points) - 1) // 2\n",
    "\n",
    "# Print the result\n",
    "print(\"Number of distance calculations:\", num_distance_calculations)\n",
    "\n",
    "# Visualize the points\n",
    "plt.scatter(points[:, 0], points[:, 1], marker='o', label='Points')\n",
    "plt.title('Randomly Generated Points on a Plane')\n",
    "plt.xlabel('X-axis')\n",
    "plt.ylabel('Y-axis')\n",
    "\n",
    "# Show the plot\n",
    "plt.show()\n"
   ]
  },
  {
   "cell_type": "markdown",
   "metadata": {},
   "source": [
    "Now visualize these distances on the plan, still with matplotlib"
   ]
  },
  {
   "cell_type": "code",
   "execution_count": 38,
   "metadata": {},
   "outputs": [
    {
     "data": {
      "image/png": "[encoded data removed]",
      "text/plain": [
       "<Figure size 640x480 with 1 Axes>"
      ]
     },
     "metadata": {},
     "output_type": "display_data"
    }
   ],
   "source": [
    "import numpy as np\n",
    "import matplotlib.pyplot as plt\n",
    "\n",
    "# Set a seed for reproducibility\n",
    "np.random.seed(42)\n",
    "\n",
    "# Generate 10 random points on a plane\n",
    "points = np.random.rand(10, 2)\n",
    "\n",
    "# Calculate distance vectors between all pairs of points\n",
    "distances = np.linalg.norm(points[:, np.newaxis, :] - points[np.newaxis, :, :], axis=-1)\n",
    "\n",
    "# Count the number of distance calculations\n",
    "num_distance_calculations = len(points) * (len(points) - 1) // 2\n",
    "\n",
    "# Visualize the points\n",
    "plt.scatter(points[:, 0], points[:, 1], marker='o', label='Points')\n",
    "\n",
    "# Visualize the distances with connecting lines\n",
    "for i in range(len(points)):\n",
    "    for j in range(i+1, len(points)):\n",
    "        plt.plot([points[i, 0], points[j, 0]], [points[i, 1], points[j, 1]], 'k--', alpha=0.5)\n",
    "\n",
    "plt.title('Randomly Generated Points and Distances on a Plane')\n",
    "plt.xlabel('X-axis')\n",
    "plt.ylabel('Y-axis')\n",
    "plt.legend()\n",
    "\n",
    "# Show the plot\n",
    "plt.show()\n"
   ]
  },
  {
   "cell_type": "markdown",
   "metadata": {},
   "source": [
    "Create a list of randomly generated integers, and use np.mod (for modulo) to identify indexes of even numbers"
   ]
  },
  {
   "cell_type": "code",
   "execution_count": 39,
   "metadata": {},
   "outputs": [
    {
     "name": "stdout",
     "output_type": "stream",
     "text": [
      "Generated Integers: [42 28 16 15 47 44  3 37  7 21]\n",
      "Indices of Even Numbers: [ True  True  True False False  True False False False False]\n"
     ]
    }
   ],
   "source": [
    "import numpy as np\n",
    "\n",
    "# Generate a list of randomly generated integers\n",
    "random_integers = np.random.randint(1, 50, size=10)  # Adjust the range and size as needed\n",
    "\n",
    "# Use np.mod to identify indices of even numbers\n",
    "even_indices = np.mod(random_integers, 2) == 0\n",
    "\n",
    "# Print the results\n",
    "print(\"Generated Integers:\", random_integers)\n",
    "print(\"Indices of Even Numbers:\", even_indices)\n"
   ]
  },
  {
   "cell_type": "markdown",
   "metadata": {},
   "source": [
    "**Fonctions universelles**"
   ]
  },
  {
   "cell_type": "markdown",
   "metadata": {},
   "source": [
    "    Take the vector {3,4,6,9} and use the add and multiply functions"
   ]
  },
  {
   "cell_type": "code",
   "execution_count": 40,
   "metadata": {},
   "outputs": [
    {
     "name": "stdout",
     "output_type": "stream",
     "text": [
      "Original Vector: [3 4 6 9]\n",
      "Vector after Addition: [ 5  6  8 11]\n",
      "Vector after Multiplication: [ 9 12 18 27]\n"
     ]
    }
   ],
   "source": [
    "import numpy as np\n",
    "\n",
    "# Given vector\n",
    "vector = np.array([3, 4, 6, 9])\n",
    "\n",
    "# Element-wise addition\n",
    "add_result = np.add(vector, 2)\n",
    "\n",
    "# Element-wise multiplication\n",
    "multiply_result = np.multiply(vector, 3)\n",
    "\n",
    "# Print the results\n",
    "print(\"Original Vector:\", vector)\n",
    "print(\"Vector after Addition:\", add_result)\n",
    "print(\"Vector after Multiplication:\", multiply_result)\n"
   ]
  },
  {
   "cell_type": "markdown",
   "metadata": {},
   "source": [
    "Use multiply.outer on two vectors, and explain the nature of the corresponding operations"
   ]
  },
  {
   "cell_type": "markdown",
   "metadata": {},
   "source": [
    "If vector_a has shape (m,) and vector_b has shape (n,), the resulting outer product matrix will have shape (m, n). \n",
    "It basically multiplies each element in vector_a to each rows of vector_b to get the result"
   ]
  },
  {
   "cell_type": "code",
   "execution_count": 41,
   "metadata": {},
   "outputs": [
    {
     "name": "stdout",
     "output_type": "stream",
     "text": [
      "Vector A: [1 2 3]\n",
      "Vector B: [4 5 6]\n",
      "Outer Product Matrix:\n",
      "[[ 4  5  6]\n",
      " [ 8 10 12]\n",
      " [12 15 18]]\n"
     ]
    }
   ],
   "source": [
    "import numpy as np\n",
    "\n",
    "# Two vectors\n",
    "vector_a = np.array([1, 2, 3])\n",
    "vector_b = np.array([4, 5, 6])\n",
    "\n",
    "# Compute the outer product using np.multiply.outer\n",
    "outer_product = np.multiply.outer(vector_a, vector_b)\n",
    "\n",
    "# Print the results\n",
    "print(\"Vector A:\", vector_a)\n",
    "print(\"Vector B:\", vector_b)\n",
    "print(\"Outer Product Matrix:\")\n",
    "print(outer_product)\n"
   ]
  },
  {
   "cell_type": "markdown",
   "metadata": {},
   "source": [
    "Apply the negative function to the array [2,3,5]"
   ]
  },
  {
   "cell_type": "code",
   "execution_count": 42,
   "metadata": {},
   "outputs": [
    {
     "name": "stdout",
     "output_type": "stream",
     "text": [
      "Original Array: [2 3 5]\n",
      "Negated Array: [-2 -3 -5]\n"
     ]
    }
   ],
   "source": [
    "import numpy as np\n",
    "\n",
    "array = np.array([2, 3, 5])\n",
    "\n",
    "negated_array = np.negative(array)\n",
    "\n",
    "print(\"Original Array:\", array)\n",
    "print(\"Negated Array:\", negated_array)\n"
   ]
  },
  {
   "cell_type": "markdown",
   "metadata": {},
   "source": [
    "**Numpy and strings**"
   ]
  },
  {
   "cell_type": "markdown",
   "metadata": {},
   "source": [
    "Merge two arrays each comprising two strings, using the np.char.add function"
   ]
  },
  {
   "cell_type": "code",
   "execution_count": 43,
   "metadata": {},
   "outputs": [
    {
     "name": "stdout",
     "output_type": "stream",
     "text": [
      "Array 1: ['Hello ' 'world ']\n",
      "Array 2: ['My name ' 'is Nhi']\n",
      "Merged Array: ['Hello My name ' 'world is Nhi']\n"
     ]
    }
   ],
   "source": [
    "import numpy as np\n",
    "\n",
    "array1 = np.array(['Hello ', 'world '])\n",
    "array2 = np.array(['My name ', 'is Nhi'])\n",
    "\n",
    "merged_array = np.char.add(array1, array2)\n",
    "\n",
    "print(\"Array 1:\", array1)\n",
    "print(\"Array 2:\", array2)\n",
    "print(\"Merged Array:\", merged_array)\n"
   ]
  },
  {
   "cell_type": "markdown",
   "metadata": {},
   "source": [
    "Use the np.char.join function to insert the symbol \";\" into a 5-character string. between each letter"
   ]
  },
  {
   "cell_type": "code",
   "execution_count": 44,
   "metadata": {},
   "outputs": [
    {
     "name": "stdout",
     "output_type": "stream",
     "text": [
      "Original String: HELLO\n",
      "Joined String: H;E;L;L;O\n"
     ]
    }
   ],
   "source": [
    "import numpy as np\n",
    "\n",
    "original_string = np.array(['HELLO'])\n",
    "\n",
    "joined_string = np.char.join(';', original_string)\n",
    "\n",
    "# Print the result\n",
    "print(\"Original String:\", original_string[0])\n",
    "print(\"Joined String:\", joined_string[0])\n"
   ]
  },
  {
   "cell_type": "markdown",
   "metadata": {},
   "source": [
    "Use the np.char.upper function on the character string of your choice"
   ]
  },
  {
   "cell_type": "code",
   "execution_count": 45,
   "metadata": {},
   "outputs": [
    {
     "name": "stdout",
     "output_type": "stream",
     "text": [
      "Original String: Hello, it is me again\n",
      "Uppercase String: HELLO, IT IS ME AGAIN\n"
     ]
    }
   ],
   "source": [
    "import numpy as np\n",
    "\n",
    "# Character string of my choice\n",
    "original_string = 'Hello, it is me again'\n",
    "\n",
    "# Use np.char.upper to convert to uppercase\n",
    "uppercase_string = np.char.upper(original_string)\n",
    "\n",
    "# Print the result\n",
    "print(\"Original String:\", original_string)\n",
    "print(\"Uppercase String:\", uppercase_string)\n"
   ]
  },
  {
   "cell_type": "markdown",
   "metadata": {},
   "source": [
    "Use np.char.replace to demonstrate how to replace one string (in a sentence) with another"
   ]
  },
  {
   "cell_type": "code",
   "execution_count": 46,
   "metadata": {},
   "outputs": [
    {
     "name": "stdout",
     "output_type": "stream",
     "text": [
      "Original Sentence: ['I like to study.']\n",
      "Modified Sentence: ['I do not like to study.']\n"
     ]
    }
   ],
   "source": [
    "import numpy as np\n",
    "\n",
    "original_sentence = np.array(['I like to study.'])\n",
    "\n",
    "modified_sentence = np.char.replace(original_sentence, 'like', 'do not like')\n",
    "\n",
    "print(\"Original Sentence:\", original_sentence)\n",
    "print(\"Modified Sentence:\", modified_sentence)\n"
   ]
  },
  {
   "cell_type": "markdown",
   "metadata": {},
   "source": [
    "Use np.char.split to split an array containing two sentences into as many elements as there are words in them"
   ]
  },
  {
   "cell_type": "code",
   "execution_count": 47,
   "metadata": {},
   "outputs": [
    {
     "name": "stdout",
     "output_type": "stream",
     "text": [
      "Original Array:\n",
      "['Good morning!' 'It is Monday again.']\n",
      "Split Array:\n",
      "[list(['Good', 'morning!']) list(['It', 'is', 'Monday', 'again.'])]\n"
     ]
    }
   ],
   "source": [
    "import numpy as np\n",
    "\n",
    "sentences_array = np.array(['Good morning!', 'It is Monday again.'])\n",
    "\n",
    "split_array = np.char.split(sentences_array)\n",
    "\n",
    "print(\"Original Array:\")\n",
    "print(sentences_array)\n",
    "print(\"Split Array:\")\n",
    "print(split_array)\n"
   ]
  },
  {
   "cell_type": "markdown",
   "metadata": {},
   "source": [
    "Create an array containing three strings including a repeated pattern, common to the three elements. Use np.char.count to count the number of times this pattern is repeated"
   ]
  },
  {
   "cell_type": "code",
   "execution_count": 48,
   "metadata": {},
   "outputs": [
    {
     "name": "stdout",
     "output_type": "stream",
     "text": [
      "Original Array:\n",
      "['abcabcabc' 'xyzxyzxyz' '123123123']\n",
      "\n",
      "Pattern to Count: abc\n",
      "Count Result: [3 0 0]\n"
     ]
    }
   ],
   "source": [
    "import numpy as np\n",
    "\n",
    "# Create an array with repeated patterns\n",
    "array_with_patterns = np.array(['abcabcabc', 'xyzxyzxyz', '123123123'])\n",
    "\n",
    "# Define the repeated pattern\n",
    "pattern_to_count = 'abc'\n",
    "\n",
    "# Use np.char.count to count the number of times the pattern is repeated\n",
    "count_result = np.char.count(array_with_patterns, pattern_to_count)\n",
    "\n",
    "# Print the result\n",
    "print(\"Original Array:\")\n",
    "print(array_with_patterns)\n",
    "print(\"\\nPattern to Count:\", pattern_to_count)\n",
    "print(\"Count Result:\", count_result)\n"
   ]
  },
  {
   "cell_type": "markdown",
   "metadata": {},
   "source": [
    "Modify an array of length 5 by inserting elements, then removing some"
   ]
  },
  {
   "cell_type": "code",
   "execution_count": 49,
   "metadata": {},
   "outputs": [
    {
     "name": "stdout",
     "output_type": "stream",
     "text": [
      "Original Array: [1 2 3 4 5]\n",
      "Array after Inserting Elements: [ 1  2 10  3  4 20  5]\n",
      "Array after Removing Elements: [ 1 10  3  4  5]\n"
     ]
    }
   ],
   "source": [
    "import numpy as np\n",
    "\n",
    "# Original array of length 5\n",
    "original_array = np.array([1, 2, 3, 4, 5])\n",
    "\n",
    "# Insert elements (e.g., insert 10 and 20 at positions 2 and 4)\n",
    "modified_array_inserted = np.insert(original_array, [2, 4], [10, 20])\n",
    "\n",
    "# Remove elements (e.g., remove elements at positions 1 and 5)\n",
    "modified_array_removed = np.delete(modified_array_inserted, [1, 5])\n",
    "\n",
    "# Print the results\n",
    "print(\"Original Array:\", original_array)\n",
    "print(\"Array after Inserting Elements:\", modified_array_inserted)\n",
    "print(\"Array after Removing Elements:\", modified_array_removed)\n"
   ]
  },
  {
   "cell_type": "markdown",
   "metadata": {},
   "source": [
    "Write a NumPy program to add a border (padded with 0s) around an existing array. You need two layers of zeros all around"
   ]
  },
  {
   "cell_type": "code",
   "execution_count": 50,
   "metadata": {},
   "outputs": [
    {
     "name": "stdout",
     "output_type": "stream",
     "text": [
      "Original Array:\n",
      "[[1 2 3]\n",
      " [4 5 6]\n",
      " [7 8 9]]\n",
      "Array with Border:\n",
      "[[0 0 0 0 0 0 0]\n",
      " [0 0 0 0 0 0 0]\n",
      " [0 0 1 2 3 0 0]\n",
      " [0 0 4 5 6 0 0]\n",
      " [0 0 7 8 9 0 0]\n",
      " [0 0 0 0 0 0 0]\n",
      " [0 0 0 0 0 0 0]]\n"
     ]
    }
   ],
   "source": [
    "import numpy as np\n",
    "\n",
    "# Original array\n",
    "original_array = np.array([[1, 2, 3],[4, 5, 6],[7, 8, 9]])\n",
    "\n",
    "# Add a border with two layers of zeros\n",
    "padded_array = np.pad(original_array, pad_width=2, mode='constant', constant_values=0)\n",
    "\n",
    "# Print the results\n",
    "print(\"Original Array:\")\n",
    "print(original_array)\n",
    "\n",
    "print(\"Array with Border:\")\n",
    "print(padded_array)\n"
   ]
  },
  {
   "cell_type": "markdown",
   "metadata": {},
   "source": [
    "Write a NumPy program to create a 5x5 array with random values ​​and normalize it by row"
   ]
  },
  {
   "cell_type": "code",
   "execution_count": 52,
   "metadata": {},
   "outputs": [
    {
     "name": "stdout",
     "output_type": "stream",
     "text": [
      "Original Random Array:\n",
      "[[0.57044397 0.52083426 0.96117202 0.84453385 0.74732011]\n",
      " [0.53969213 0.58675117 0.96525531 0.60703425 0.27599918]\n",
      " [0.29627351 0.16526694 0.01563641 0.42340148 0.39488152]\n",
      " [0.29348817 0.01407982 0.1988424  0.71134195 0.79017554]\n",
      " [0.60595997 0.92630088 0.65107703 0.91495968 0.85003858]]\n",
      "Normalized Array by Row:\n",
      "[[0.15653028 0.14291734 0.26374637 0.23174077 0.20506524]\n",
      " [0.18142546 0.19724505 0.32448479 0.20406351 0.09278119]\n",
      " [0.22870142 0.12757396 0.01207016 0.32683489 0.30481957]\n",
      " [0.1461647  0.00701212 0.09902866 0.35426668 0.39352785]\n",
      " [0.15347224 0.23460537 0.16489909 0.23173297 0.21529033]]\n"
     ]
    }
   ],
   "source": [
    "import numpy as np\n",
    "\n",
    "# Create a 5x5 array with random values\n",
    "random_array = np.random.rand(5, 5)\n",
    "\n",
    "# Normalize the array by row\n",
    "normalized_array = random_array / random_array.sum(axis=1, keepdims=True)\n",
    "\n",
    "# Print the results\n",
    "print(\"Original Random Array:\")\n",
    "print(random_array)\n",
    "print(\"Normalized Array by Row:\")\n",
    "print(normalized_array)\n"
   ]
  },
  {
   "cell_type": "markdown",
   "metadata": {},
   "source": [
    "**Pour aller plus loin que la simple maîtrise des fonctions Numpy** (ChatGPT interdit)"
   ]
  },
  {
   "cell_type": "markdown",
   "metadata": {},
   "source": [
    "Nous vous proposons quelques exercices de programmation, pour aller au-delà de la simple connaissance de fonctions"
   ]
  },
  {
   "cell_type": "markdown",
   "metadata": {},
   "source": [
    "*Exercice 1*"
   ]
  },
  {
   "cell_type": "markdown",
   "metadata": {},
   "source": [
    "Si le produit de deux nombres entiers est égal ou inférieur à 1 000, renvoyez le produit ; sinon, renvoyez leur somme. Nous attendons de vous que vous construisiez une fonction. numéro1 = 20,\n",
    "nombre2 = 30, la sortie est 600"
   ]
  },
  {
   "cell_type": "code",
   "execution_count": null,
   "metadata": {},
   "outputs": [],
   "source": []
  },
  {
   "cell_type": "markdown",
   "metadata": {},
   "source": [
    "*Exercice 2*"
   ]
  },
  {
   "cell_type": "markdown",
   "metadata": {},
   "source": [
    "Créez un programme qui invite l'utilisateur à saisir une chaîne, puis affiche\n",
    "les caractères situés à des positions d'index paires. Par exemple, si la chaîne est\n",
    "\"exemple\", le programme doit afficher les caractères \"x\", \"m\", \"l\"."
   ]
  },
  {
   "cell_type": "code",
   "execution_count": null,
   "metadata": {},
   "outputs": [],
   "source": []
  },
  {
   "cell_type": "markdown",
   "metadata": {},
   "source": [
    "*Exercice 3*"
   ]
  },
  {
   "cell_type": "markdown",
   "metadata": {},
   "source": [
    "Créez un programme qui prend une chaîne en entrée et supprime les caractères de\n",
    "le début de la chaîne jusqu'à un index spécifié, ce qui donne une nouvelle chaîne.\n",
    "Par exemple, si nous appelons la fonction remove chars(”example”, 3), la sortie\n",
    "devrait être « mple ». Notez que l'index spécifié, noté 'n', doit être inférieur à la longueur de\n",
    "la chaîne."
   ]
  },
  {
   "cell_type": "code",
   "execution_count": null,
   "metadata": {},
   "outputs": [],
   "source": []
  },
  {
   "cell_type": "markdown",
   "metadata": {},
   "source": [
    "*Exercice 4*"
   ]
  },
  {
   "cell_type": "markdown",
   "metadata": {},
   "source": [
    "Itérer la liste de nombres donnée et imprimer uniquement les nombres divisibles\n",
    "par 5:  la liste donnée est [10, 20, 33, 46, 55] Divisible par 5 : 10, 20, 55"
   ]
  },
  {
   "cell_type": "code",
   "execution_count": null,
   "metadata": {},
   "outputs": [],
   "source": []
  },
  {
   "cell_type": "markdown",
   "metadata": {},
   "source": [
    "*Exercice 5*"
   ]
  },
  {
   "cell_type": "markdown",
   "metadata": {},
   "source": [
    "Développer un programme qui détermine le nombre d'occurrences de la sous-chaîne\n",
    "\"Emma\" dans une chaîne donnée.\n",
    "• Donné : « Emma est une bonne développeuse. Emma est institutrice. »\n",
    "• Résultat attendu : Emma est apparue 2 fois\n",
    "Faites-le une fois avec la méthode « count » de chaîne, une fois sans."
   ]
  },
  {
   "cell_type": "code",
   "execution_count": null,
   "metadata": {},
   "outputs": [],
   "source": []
  },
  {
   "cell_type": "markdown",
   "metadata": {},
   "source": [
    "*Exercice 6*"
   ]
  },
  {
   "cell_type": "markdown",
   "metadata": {},
   "source": [
    "Écrivez un programme pour vérifier si le nombre donné est un nombre palindrome.\n",
    "Un nombre palindrome est un nombre qui est le même après l'inverse. Par exemple\n",
    "545, ce sont les nombres palindromes\n",
    "Production attendue:\n",
    "• numéro original 121 : Oui. le nombre donné est le numéro du palindrome\n",
    "• numéro d'origine 125 : le numéro donné n'est pas un numéro palindrome"
   ]
  },
  {
   "cell_type": "code",
   "execution_count": null,
   "metadata": {},
   "outputs": [],
   "source": []
  },
  {
   "cell_type": "markdown",
   "metadata": {},
   "source": [
    "*Exercice 7*"
   ]
  },
  {
   "cell_type": "markdown",
   "metadata": {},
   "source": [
    "Écrivez une boucle while pour afficher chaque caractère d'une chaîne et, si un caractère est\n",
    "numéro : arrêter la boucle."
   ]
  },
  {
   "cell_type": "code",
   "execution_count": null,
   "metadata": {},
   "outputs": [],
   "source": [
    "hello world"
   ]
  }
 ],
 "metadata": {
  "kernelspec": {
   "display_name": "Python 3",
   "language": "python",
   "name": "python3"
  },
  "language_info": {
   "codemirror_mode": {
    "name": "ipython",
    "version": 3
   },
   "file_extension": ".py",
   "mimetype": "text/x-python",
   "name": "python",
   "nbconvert_exporter": "python",
   "pygments_lexer": "ipython3",
   "version": "3.9.13"
  }
 },
 "nbformat": 4,
 "nbformat_minor": 2
}
